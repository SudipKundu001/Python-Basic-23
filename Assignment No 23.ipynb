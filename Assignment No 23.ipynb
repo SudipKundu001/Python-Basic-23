{
 "cells": [
  {
   "cell_type": "markdown",
   "id": "1dcb6ff0",
   "metadata": {},
   "source": [
    ">__1. What is the result of the code, and why?__"
   ]
  },
  {
   "cell_type": "code",
   "execution_count": 6,
   "id": "1cb18ad8",
   "metadata": {},
   "outputs": [
    {
     "name": "stdout",
     "output_type": "stream",
     "text": [
      "1 2 8\n"
     ]
    }
   ],
   "source": [
    "def func(a, b=6, c=8):\n",
    "    print(a, b, c)\n",
    "func(1,2)"
   ]
  },
  {
   "cell_type": "markdown",
   "id": "fc463a8a",
   "metadata": {},
   "source": [
    "In the function call the value of a and b is given i.e. 1 and 2 but the value of c is not given so it's taking the value of c which is given by default i.e. 8 . \n"
   ]
  },
  {
   "cell_type": "markdown",
   "id": "7301cfc1",
   "metadata": {},
   "source": [
    ">__2. What is the result of this code, and why?__\n",
    "\n"
   ]
  },
  {
   "cell_type": "code",
   "execution_count": 8,
   "id": "f360688c",
   "metadata": {},
   "outputs": [
    {
     "name": "stdout",
     "output_type": "stream",
     "text": [
      "1 2 3\n"
     ]
    }
   ],
   "source": [
    "def func(a, b, c=5):\n",
    "    print(a, b, c)\n",
    "\n",
    "func(1, c=3, b=2)"
   ]
  },
  {
   "cell_type": "markdown",
   "id": "3b8cb65c",
   "metadata": {},
   "source": [
    "Function prints it's values in the same order which we give at the time of defining."
   ]
  },
  {
   "cell_type": "markdown",
   "id": "aa713322",
   "metadata": {},
   "source": [
    ">__3. How about this code: what is its result, and why?__\n",
    "\n"
   ]
  },
  {
   "cell_type": "code",
   "execution_count": 10,
   "id": "89eb6771",
   "metadata": {},
   "outputs": [
    {
     "name": "stdout",
     "output_type": "stream",
     "text": [
      "1 (2, 3)\n"
     ]
    }
   ],
   "source": [
    "def func(a, *pargs):\n",
    "    print(a, pargs)\n",
    "\n",
    "func(1, 2, 3)"
   ]
  },
  {
   "cell_type": "markdown",
   "id": "743f26f9",
   "metadata": {},
   "source": [
    "The special syntax *pargs in function definitions in python is used to pass a variable number of arguments to a function. It is used to pass a non-key worded, variable-length argument list."
   ]
  },
  {
   "cell_type": "markdown",
   "id": "c7962f5f",
   "metadata": {},
   "source": [
    ">__4. What does this code print, and why?__\n",
    "\n"
   ]
  },
  {
   "cell_type": "code",
   "execution_count": 11,
   "id": "b0e56099",
   "metadata": {},
   "outputs": [
    {
     "name": "stdout",
     "output_type": "stream",
     "text": [
      "1 {'c': 3, 'b': 2}\n"
     ]
    }
   ],
   "source": [
    "def func(a, **kargs):\n",
    "    print(a, kargs)\n",
    "\n",
    "func(a=1, c=3, b=2)"
   ]
  },
  {
   "cell_type": "markdown",
   "id": "b7ed2403",
   "metadata": {},
   "source": [
    "The special syntax **kargs in function definitions in python is used to pass a keyworded, variable-length argument list."
   ]
  },
  {
   "cell_type": "markdown",
   "id": "f5aff1df",
   "metadata": {},
   "source": [
    ">__5. What gets printed by this, and explain?__\n"
   ]
  },
  {
   "cell_type": "code",
   "execution_count": 18,
   "id": "75af83b5",
   "metadata": {},
   "outputs": [
    {
     "name": "stdout",
     "output_type": "stream",
     "text": [
      "1 5 6 5\n"
     ]
    }
   ],
   "source": [
    "\n",
    "def func(a, b, c=8, d=5): \n",
    "    print(a, b, c, d)\n",
    "func(1, *(5, 6))\n"
   ]
  },
  {
   "cell_type": "markdown",
   "id": "28b638bc",
   "metadata": {},
   "source": [
    "While calling the function the value of a is given ie. 1, b and c getting there value from *(5,6) so the value of b become 5 and c become 6 and finally d is getting it's value by default i.e. 5. "
   ]
  },
  {
   "cell_type": "markdown",
   "id": "f01c1f5c",
   "metadata": {},
   "source": [
    ">__6. what is the result of this, and explain?__\n",
    "\n"
   ]
  },
  {
   "cell_type": "code",
   "execution_count": 22,
   "id": "086eb70e",
   "metadata": {},
   "outputs": [
    {
     "data": {
      "text/plain": [
       "(1, ['x'], {'a': 'y'})"
      ]
     },
     "execution_count": 22,
     "metadata": {},
     "output_type": "execute_result"
    }
   ],
   "source": [
    "def func(a, b, c): \n",
    "    a = 2; b[0] = 'x'; c['a'] = 'y'\n",
    "    \n",
    "l=1; m=[1]; n={'a':0}\n",
    "func(l, m, n)\n",
    "l, m, n"
   ]
  },
  {
   "cell_type": "markdown",
   "id": "a75ea75b",
   "metadata": {},
   "source": []
  }
 ],
 "metadata": {
  "kernelspec": {
   "display_name": "Python 3",
   "language": "python",
   "name": "python3"
  },
  "language_info": {
   "codemirror_mode": {
    "name": "ipython",
    "version": 3
   },
   "file_extension": ".py",
   "mimetype": "text/x-python",
   "name": "python",
   "nbconvert_exporter": "python",
   "pygments_lexer": "ipython3",
   "version": "3.8.8"
  }
 },
 "nbformat": 4,
 "nbformat_minor": 5
}
